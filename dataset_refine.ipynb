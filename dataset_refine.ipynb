{
 "cells": [
  {
   "cell_type": "markdown",
   "id": "equipped-champagne",
   "metadata": {},
   "source": [
    "# 크롤링한 데이터셋 노이즈 제거"
   ]
  },
  {
   "cell_type": "code",
   "execution_count": 1,
   "id": "graduate-helen",
   "metadata": {},
   "outputs": [],
   "source": [
    "import random\n",
    "\n",
    "file = open(\"train.jsonl\", 'r', encoding=\"utf8\")\n",
    "\n",
    "temp = \"\"\n",
    "for i in file.readlines():\n",
    "    rand = random.randint(1000000000, 9999999999)\n",
    "    # print(\"rand\", rand)\n",
    "    i = i.replace('\"id\": \" \"', f'\"id\": \"{rand}\"')\n",
    "    temp += i\n",
    "file.close()\n",
    "\n",
    "f = open(\"train_copied.jsonl\", \"w\", encoding=\"utf8\")\n",
    "f.write(temp)\n",
    "f.close()\n"
   ]
  },
  {
   "cell_type": "code",
   "execution_count": 2,
   "id": "scenic-regular",
   "metadata": {},
   "outputs": [
    {
     "name": "stderr",
     "output_type": "stream",
     "text": [
      "'pwd'은(는) 내부 또는 외부 명령, 실행할 수 있는 프로그램, 또는\n",
      "배치 파일이 아닙니다.\n"
     ]
    }
   ],
   "source": []
  },
  {
   "cell_type": "code",
   "execution_count": null,
   "id": "moderate-village",
   "metadata": {},
   "outputs": [],
   "source": []
  }
 ],
 "metadata": {
  "kernelspec": {
   "display_name": "Python 3",
   "language": "python",
   "name": "python3"
  },
  "language_info": {
   "codemirror_mode": {
    "name": "ipython",
    "version": 3
   },
   "file_extension": ".py",
   "mimetype": "text/x-python",
   "name": "python",
   "nbconvert_exporter": "python",
   "pygments_lexer": "ipython3",
   "version": "3.6.12"
  }
 },
 "nbformat": 4,
 "nbformat_minor": 5
}
